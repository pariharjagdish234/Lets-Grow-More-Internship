{
  "cells": [
    {
      "cell_type": "markdown",
      "metadata": {
        "id": "3q0X6fDFGEWP"
      },
      "source": [
        "# **LetsGrowMore Virtual Internship Program (VIP) - August 2022**\n"
      ]
    },
    {
      "cell_type": "markdown",
      "metadata": {
        "id": "mhWwBN6ujjrB"
      },
      "source": [
        "## **Advanced Level**"
      ]
    },
    {
      "cell_type": "markdown",
      "metadata": {
        "id": "QFBsPsbNGQma"
      },
      "source": [
        "## **Task-7 : Develop A Neural Network That Can Read Handwriting**\n",
        "\n",
        "## **Name: Jagdish Ramesh Parihar**"
      ]
    },
    {
      "cell_type": "code",
      "execution_count": null,
      "metadata": {
        "id": "vjfU2s0sSASn"
      },
      "outputs": [],
      "source": [
        "# Importing Libraries\n",
        "import warnings\n",
        "warnings.filterwarnings(\"ignore\")\n",
        "import numpy as np\n",
        "import pandas as pd\n",
        "import matplotlib.pyplot as plt\n",
        "import tensorflow as tf\n",
        "import seaborn as sb\n",
        "from tensorflow.keras.models import Sequential\n",
        "from tensorflow.keras.layers import Dense,Dropout,Flatten,Activation\n",
        "from tensorflow.keras.layers import Conv2D,MaxPooling2D\n",
        "from tensorflow.keras.layers import BatchNormalization"
      ]
    },
    {
      "cell_type": "code",
      "execution_count": null,
      "metadata": {
        "id": "AaEh_8qjSiyE"
      },
      "outputs": [],
      "source": [
        "# Loading The MNIST Dataset With The Associated Train & Test Variables\n",
        "(X_train,Y_train),(X_test,Y_test)=tf.keras.datasets.mnist.load_data()"
      ]
    },
    {
      "cell_type": "code",
      "execution_count": null,
      "metadata": {
        "colab": {
          "base_uri": "https://localhost:8080/",
          "height": 224
        },
        "id": "e-6uio2iS2bP",
        "outputId": "cd35c038-2e48-4380-9760-ae8d46b6bba8"
      },
      "outputs": [
        {
          "data": {
            "image/png": "[encoded data removed]",
            "text/plain": [
              "<Figure size 1080x360 with 20 Axes>"
            ]
          },
          "metadata": {
            "needs_background": "light"
          },
          "output_type": "display_data"
        }
      ],
      "source": [
        "# Showing Samples of Hand-Written Images\n",
        "figure,axis=plt.subplots(ncols=20,sharex=False,sharey=True,figsize=(15,5))\n",
        "figure.suptitle(\"Sample Hand-Written Images\")\n",
        "for i in range(20):\n",
        "  axis[i].set_title(Y_train[i])\n",
        "  axis[i].imshow(X_train[i],cmap='gray_r')\n",
        "  axis[i].get_xaxis().set_visible(False)\n",
        "  axis[i].get_yaxis().set_visible(False)\n",
        "plt.show()"
      ]
    },
    {
      "cell_type": "code",
      "execution_count": null,
      "metadata": {
        "id": "bz68LF5WWCgd"
      },
      "outputs": [],
      "source": [
        "# Data Preprocessing Stage\n",
        "X_train=X_train.reshape(X_train.shape[0],28,28,1)\n",
        "X_test=X_test.reshape(X_test.shape[0],28,28,1)\n",
        "img_input=(28,28,1)\n",
        "clnum=10\n",
        "X_train=X_train/255.0\n",
        "X_test=X_test/255.0"
      ]
    },
    {
      "cell_type": "code",
      "execution_count": null,
      "metadata": {
        "id": "5KyzKhLib3FT"
      },
      "outputs": [],
      "source": [
        "# Creating The CNN Model To Predict & Read The Handwriting\n",
        "cnn=Sequential()\n",
        "cnn.add(Conv2D(128,kernel_size=(3,3),activation=tf.nn.relu,input_shape=img_input))\n",
        "cnn.add(BatchNormalization())\n",
        "cnn.add(Dropout(0.3))\n",
        "cnn.add(Conv2D(64,(3,3),activation=tf.nn.relu))\n",
        "cnn.add(BatchNormalization())\n",
        "cnn.add(Dropout(0.3))\n",
        "cnn.add(Conv2D(32,(3,3),activation=tf.nn.relu))\n",
        "cnn.add(BatchNormalization())\n",
        "cnn.add(Dropout(0.3))\n",
        "cnn.add(MaxPooling2D(pool_size=(2,2)))\n",
        "cnn.add(Dropout(0.3))\n",
        "cnn.add(Flatten())\n",
        "cnn.add(Dense(128,activation=tf.nn.relu))\n",
        "cnn.add(Dropout(0.3))\n",
        "cnn.add(Dense(clnum,activation=tf.nn.softmax))"
      ]
    },
    {
      "cell_type": "code",
      "execution_count": null,
      "metadata": {
        "colab": {
          "base_uri": "https://localhost:8080/"
        },
        "id": "nmnYEEYTtARM",
        "outputId": "203e69ed-930e-47b0-fed4-efe0acd63453"
      },
      "outputs": [
        {
          "name": "stdout",
          "output_type": "stream",
          "text": [
            "Epoch 1/10\n",
            "1688/1688 [==============================] - 655s 387ms/step - loss: 0.2120 - accuracy: 0.9386 - val_loss: 0.0967 - val_accuracy: 0.9825\n",
            "Epoch 2/10\n",
            "1688/1688 [==============================] - 652s 386ms/step - loss: 0.1009 - accuracy: 0.9713 - val_loss: 0.0986 - val_accuracy: 0.9802\n",
            "Epoch 3/10\n",
            "1688/1688 [==============================] - 662s 392ms/step - loss: 0.0784 - accuracy: 0.9768 - val_loss: 0.1419 - val_accuracy: 0.9777\n",
            "Epoch 4/10\n",
            "1688/1688 [==============================] - 666s 394ms/step - loss: 0.0653 - accuracy: 0.9810 - val_loss: 0.0830 - val_accuracy: 0.9852\n",
            "Epoch 5/10\n",
            "1688/1688 [==============================] - 657s 389ms/step - loss: 0.0597 - accuracy: 0.9830 - val_loss: 0.0849 - val_accuracy: 0.9878\n",
            "Epoch 6/10\n",
            "1688/1688 [==============================] - 648s 384ms/step - loss: 0.0542 - accuracy: 0.9845 - val_loss: 0.2031 - val_accuracy: 0.9797\n",
            "Epoch 7/10\n",
            "1688/1688 [==============================] - 649s 385ms/step - loss: 0.0472 - accuracy: 0.9868 - val_loss: 0.0827 - val_accuracy: 0.9883\n",
            "Epoch 8/10\n",
            "1688/1688 [==============================] - 651s 386ms/step - loss: 0.0432 - accuracy: 0.9874 - val_loss: 0.0886 - val_accuracy: 0.9875\n",
            "Epoch 9/10\n",
            "1688/1688 [==============================] - 648s 384ms/step - loss: 0.0408 - accuracy: 0.9881 - val_loss: 0.1546 - val_accuracy: 0.9813\n",
            "Epoch 10/10\n",
            "1688/1688 [==============================] - 645s 382ms/step - loss: 0.0362 - accuracy: 0.9893 - val_loss: 0.1403 - val_accuracy: 0.9827\n"
          ]
        }
      ],
      "source": [
        "# Training The CNN Model On The Training Set\n",
        "cnn.compile(optimizer='adam', loss='sparse_categorical_crossentropy', metrics=['accuracy'])\n",
        "runtime=cnn.fit(x=X_train,y=Y_train,validation_split=0.1,epochs=10)"
      ]
    },
    {
      "cell_type": "code",
      "execution_count": null,
      "metadata": {
        "colab": {
          "base_uri": "https://localhost:8080/"
        },
        "id": "RlqzyWHRuYs0",
        "outputId": "5f4a7d25-d259-42b1-8e27-de0d6e417b29"
      },
      "outputs": [
        {
          "name": "stdout",
          "output_type": "stream",
          "text": [
            "313/313 [==============================] - 25s 78ms/step - loss: 0.1159 - accuracy: 0.9834\n",
            "Accuracy Of The Hand Writing Prediction Model ->  98.33999872207642 %\n"
          ]
        }
      ],
      "source": [
        "# Analysing The Model For Its Accuracy\n",
        "from tensorflow.keras.models import load_model\n",
        "cnn.save('HandPred.h5')\n",
        "cnn=load_model('HandPred.h5')\n",
        "met=cnn.evaluate(X_test,Y_test)\n",
        "print(\"Accuracy Of The Hand Writing Prediction Model -> \",met[1]*100,\"%\")"
      ]
    },
    {
      "cell_type": "code",
      "execution_count": null,
      "metadata": {
        "colab": {
          "base_uri": "https://localhost:8080/"
        },
        "id": "X9uwGrMt3NJb",
        "outputId": "59bbd4ac-68b2-4934-d1ae-3baf56dedc3c"
      },
      "outputs": [
        {
          "name": "stdout",
          "output_type": "stream",
          "text": [
            "tf.Tensor(\n",
            "[[ 977    2    0    0    0    0    0    1    0    0]\n",
            " [   0 1132    1    2    0    0    0    0    0    0]\n",
            " [   2   13 1006    3    0    0    0    8    0    0]\n",
            " [   0    0    0 1006    0    2    0    1    0    1]\n",
            " [   0   10    1    0  924    0    2    3    0   42]\n",
            " [   1    0    0    4    0  885    1    0    0    1]\n",
            " [   9    7    0    0    1    2  939    0    0    0]\n",
            " [   0    2    3    1    0    1    0 1019    0    2]\n",
            " [   4    2    2    1    0    2    0    2  953    8]\n",
            " [   1    3    0    2    1    2    0    7    0  993]], shape=(10, 10), dtype=int32)\n"
          ]
        }
      ],
      "source": [
        "pred_y=cnn.predict(X_test)\n",
        "pred_label_y=[np.argmax(i) for i in pred_y]\n",
        "confusion=tf.math.confusion_matrix(labels=Y_test,predictions=pred_label_y)\n",
        "print(confusion)"
      ]
    },
    {
      "cell_type": "code",
      "execution_count": null,
      "metadata": {
        "colab": {
          "base_uri": "https://localhost:8080/",
          "height": 316
        },
        "id": "mLM707OLLD7V",
        "outputId": "8cd3d62f-811d-44cb-d4fc-db482825fd0c"
      },
      "outputs": [
        {
          "name": "stdout",
          "output_type": "stream",
          "text": [
            "Model's Predicted Value:  7\n",
            "The Prediction is CORRECT!\n"
          ]
        },
        {
          "data": {
            "image/png": "[encoded data removed]",
            "text/plain": [
              "<Figure size 432x288 with 1 Axes>"
            ]
          },
          "metadata": {
            "needs_background": "light"
          },
          "output_type": "display_data"
        }
      ],
      "source": [
        "# Running & Testing The Model On Various Hand-Written Images\n",
        "im1=X_test[0]\n",
        "plt.imshow(np.squeeze(im1),cmap='gray_r')\n",
        "plt.title('Original Value -> {}'.format(Y_test[0]))\n",
        "prediction=cnn.predict(X_test)\n",
        "print(\"Model's Predicted Value: \",np.argmax(prediction[0]))\n",
        "if(Y_test[0]==(np.argmax(prediction[0]))):\n",
        "  print('The Prediction is CORRECT!')\n",
        "else:\n",
        "  print('The Prediction is WRONG!')"
      ]
    },
    {
      "cell_type": "code",
      "execution_count": null,
      "metadata": {
        "colab": {
          "base_uri": "https://localhost:8080/",
          "height": 316
        },
        "id": "Rq9z-d1FM472",
        "outputId": "63b2883a-68ab-4595-be7d-eb641e21776e"
      },
      "outputs": [
        {
          "name": "stdout",
          "output_type": "stream",
          "text": [
            "Model's Predicted Value:  2\n",
            "The Prediction is CORRECT!\n"
          ]
        },
        {
          "data": {
            "image/png": "[encoded data removed]",
            "text/plain": [
              "<Figure size 432x288 with 1 Axes>"
            ]
          },
          "metadata": {
            "needs_background": "light"
          },
          "output_type": "display_data"
        }
      ],
      "source": [
        "im2=X_test[1]\n",
        "plt.imshow(np.squeeze(im2),cmap='gray_r')\n",
        "plt.title('Original Value -> {}'.format(Y_test[1]))\n",
        "prediction=cnn.predict(X_test)\n",
        "print(\"Model's Predicted Value: \",np.argmax(prediction[1]))\n",
        "if(Y_test[1]==(np.argmax(prediction[1]))):\n",
        "  print('The Prediction is CORRECT!')\n",
        "else:\n",
        "  print('The Prediction is WRONG!')"
      ]
    },
    {
      "cell_type": "code",
      "execution_count": null,
      "metadata": {
        "colab": {
          "base_uri": "https://localhost:8080/",
          "height": 316
        },
        "id": "bkmYvyXkRiYN",
        "outputId": "3b62baa8-3eca-4e11-8bf5-91d35d1bf5ec"
      },
      "outputs": [
        {
          "name": "stdout",
          "output_type": "stream",
          "text": [
            "Model's Predicted Value:  1\n",
            "The Prediction is CORRECT!\n"
          ]
        },
        {
          "data": {
            "image/png": "[encoded data removed]",
            "text/plain": [
              "<Figure size 432x288 with 1 Axes>"
            ]
          },
          "metadata": {
            "needs_background": "light"
          },
          "output_type": "display_data"
        }
      ],
      "source": [
        "im3=X_test[2]\n",
        "plt.imshow(np.squeeze(im3),cmap='gray_r')\n",
        "plt.title('Original Value -> {}'.format(Y_test[2]))\n",
        "prediction=cnn.predict(X_test)\n",
        "print(\"Model's Predicted Value: \",np.argmax(prediction[2]))\n",
        "if(Y_test[2]==(np.argmax(prediction[2]))):\n",
        "  print('The Prediction is CORRECT!')\n",
        "else:\n",
        "  print('The Prediction is WRONG!')"
      ]
    },
    {
      "cell_type": "code",
      "execution_count": null,
      "metadata": {
        "colab": {
          "base_uri": "https://localhost:8080/",
          "height": 316
        },
        "id": "VabzDpXPSOc-",
        "outputId": "5fd2856e-9858-4579-a4ea-d7d6ba25fa6d"
      },
      "outputs": [
        {
          "name": "stdout",
          "output_type": "stream",
          "text": [
            "Model's Predicted Value:  0\n",
            "The Prediction is CORRECT!\n"
          ]
        },
        {
          "data": {
            "image/png": "[encoded data removed]",
            "text/plain": [
              "<Figure size 432x288 with 1 Axes>"
            ]
          },
          "metadata": {
            "needs_background": "light"
          },
          "output_type": "display_data"
        }
      ],
      "source": [
        "im4=X_test[3]\n",
        "plt.imshow(np.squeeze(im4),cmap='gray_r')\n",
        "plt.title('Original Value -> {}'.format(Y_test[3]))\n",
        "prediction=cnn.predict(X_test)\n",
        "print(\"Model's Predicted Value: \",np.argmax(prediction[3]))\n",
        "if(Y_test[3]==(np.argmax(prediction[3]))):\n",
        "  print('The Prediction is CORRECT!')\n",
        "else:\n",
        "  print('The Prediction is WRONG!')"
      ]
    },
    {
      "cell_type": "code",
      "execution_count": null,
      "metadata": {
        "colab": {
          "base_uri": "https://localhost:8080/",
          "height": 316
        },
        "id": "oUlLhj07SOSl",
        "outputId": "68d94b38-d0ee-4ec2-ff2f-6e619a48cc21"
      },
      "outputs": [
        {
          "name": "stdout",
          "output_type": "stream",
          "text": [
            "Model's Predicted Value:  4\n",
            "The Prediction is CORRECT!\n"
          ]
        },
        {
          "data": {
            "image/png": "[encoded data removed]",
            "text/plain": [
              "<Figure size 432x288 with 1 Axes>"
            ]
          },
          "metadata": {
            "needs_background": "light"
          },
          "output_type": "display_data"
        }
      ],
      "source": [
        "im5=X_test[4]\n",
        "plt.imshow(np.squeeze(im5),cmap='gray_r')\n",
        "plt.title('Original Value -> {}'.format(Y_test[4]))\n",
        "prediction=cnn.predict(X_test)\n",
        "print(\"Model's Predicted Value: \",np.argmax(prediction[4]))\n",
        "if(Y_test[4]==(np.argmax(prediction[4]))):\n",
        "  print('The Prediction is CORRECT!')\n",
        "else:\n",
        "  print('The Prediction is WRONG!')"
      ]
    }
  ],
  "metadata": {
    "colab": {
      "collapsed_sections": [],
      "name": "LGMVIP_Task-7_Develop A Neural Network That Can Read Handwriting.ipynb",
      "provenance": []
    },
    "kernelspec": {
      "display_name": "Python 3",
      "language": "python",
      "name": "python3"
    },
    "language_info": {
      "codemirror_mode": {
        "name": "ipython",
        "version": 3
      },
      "file_extension": ".py",
      "mimetype": "text/x-python",
      "name": "python",
      "nbconvert_exporter": "python",
      "pygments_lexer": "ipython3",
      "version": "3.8.5"
    }
  },
  "nbformat": 4,
  "nbformat_minor": 0
}
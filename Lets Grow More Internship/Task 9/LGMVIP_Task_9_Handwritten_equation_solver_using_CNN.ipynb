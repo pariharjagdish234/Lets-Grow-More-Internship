{
  "cells": [
    {
      "cell_type": "markdown",
      "metadata": {
        "id": "3q0X6fDFGEWP"
      },
      "source": [
        "# **LetsGrowMore Virtual Internship Program (VIP) - August 2022**\n"
      ]
    },
    {
      "cell_type": "markdown",
      "metadata": {
        "id": "mhWwBN6ujjrB"
      },
      "source": [
        "## **Advanced Level**"
      ]
    },
    {
      "cell_type": "markdown",
      "metadata": {
        "id": "QFBsPsbNGQma"
      },
      "source": [
        "## **Task-9 : Handwritten equation solver using CNN**\n",
        "\n",
        "## **Name: Jagdish Ramesh Parihar**"
      ]
    },
    {
      "cell_type": "code",
      "execution_count": null,
      "metadata": {
        "id": "uA2z8WWZbNma"
      },
      "outputs": [],
      "source": [
        "#Importing Libraries For Storing Data & Processing\n",
        "import numpy as np\n",
        "import cv2\n",
        "import pandas as pd\n",
        "from matplotlib import pyplot as plt\n",
        "import os\n",
        "from os import listdir\n",
        "from os.path import isfile,join\n",
        "from PIL import Image\n",
        "%matplotlib inline"
      ]
    },
    {
      "cell_type": "code",
      "execution_count": null,
      "metadata": {
        "id": "MHK-AAIKbNmb"
      },
      "outputs": [],
      "source": [
        "#Defining The Function That Reads Image Files From The Folder\n",
        "def image_reader(folder):\n",
        "    train_data=[]\n",
        "    for filename in os.listdir(folder):\n",
        "        img = cv2.imread(os.path.join(folder,filename),cv2.IMREAD_GRAYSCALE)\n",
        "        img=~img\n",
        "        if img is not None:\n",
        "            ret,thresh=cv2.threshold(img,127,255,cv2.THRESH_BINARY)\n",
        "            ctrs,ret=cv2.findContours(thresh,cv2.RETR_EXTERNAL,cv2.CHAIN_APPROX_NONE)\n",
        "            cnt=sorted(ctrs, key=lambda ctr: cv2.boundingRect(ctr)[0])\n",
        "            w=int(28)\n",
        "            h=int(28)\n",
        "            maxi=0\n",
        "            for c in cnt:\n",
        "                x,y,w,h=cv2.boundingRect(c)\n",
        "                maxi=max(w*h,maxi)\n",
        "                if maxi==w*h:\n",
        "                    x_max=x\n",
        "                    y_max=y\n",
        "                    w_max=w\n",
        "                    h_max=h\n",
        "            im_crop= thresh[y_max:y_max+h_max+10, x_max:x_max+w_max+10]\n",
        "            im_resize = cv2.resize(im_crop,(28,28))\n",
        "            im_resize=np.reshape(im_resize,(784,1))\n",
        "            train_data.append(im_resize)\n",
        "    return train_data\n",
        "            "
      ]
    },
    {
      "cell_type": "code",
      "execution_count": null,
      "metadata": {
        "id": "buTyFjejbNmc"
      },
      "outputs": [],
      "source": [
        "#Creating A List To Store The Data From The Folders\n",
        "store_data=[]"
      ]
    },
    {
      "cell_type": "code",
      "execution_count": null,
      "metadata": {
        "id": "pWqUng1BbNmc",
        "outputId": "02fa586c-92e1-42a9-9883-6c7968559a91"
      },
      "outputs": [
        {
          "name": "stdout",
          "output_type": "stream",
          "text": [
            "4152\n"
          ]
        }
      ],
      "source": [
        "# Give The - Sign Value As 10\n",
        "store_data=image_reader(\"-\")\n",
        "for i in range(len(store_data)):\n",
        "    store_data[i]=np.append(store_data[i],[\"10\"])\n",
        "print(len(store_data))"
      ]
    },
    {
      "cell_type": "code",
      "execution_count": null,
      "metadata": {
        "id": "WkDTWFv6bNmd",
        "outputId": "d3d903ac-e9f4-491f-e735-ea56607908b5"
      },
      "outputs": [
        {
          "name": "stdout",
          "output_type": "stream",
          "text": [
            "8184\n"
          ]
        }
      ],
      "source": [
        "# Give The + Sign Value As 11\n",
        "store_11=image_reader(\"+\")\n",
        "for i in range(len(store_11)):\n",
        "    store_11[i]=np.append(store_11[i],[\"11\"])\n",
        "store_data=np.concatenate((store_data,store_11))\n",
        "print(len(store_data))"
      ]
    },
    {
      "cell_type": "code",
      "execution_count": null,
      "metadata": {
        "id": "m1zzqOEHbNme",
        "outputId": "a807b2eb-2170-4a34-a2ab-c0383c4e3e40"
      },
      "outputs": [
        {
          "name": "stdout",
          "output_type": "stream",
          "text": [
            "12018\n"
          ]
        }
      ],
      "source": [
        "# Store the Value of 0\n",
        "store_0=image_reader(\"0\")\n",
        "for i in range(len(store_0)):\n",
        "    store_0[i]=np.append(store_0[i],[\"0\"])\n",
        "store_data=np.concatenate((store_data,store_0))\n",
        "print(len(store_data))"
      ]
    },
    {
      "cell_type": "code",
      "execution_count": null,
      "metadata": {
        "id": "vs4Dq17wbNme",
        "outputId": "d064ac7d-d64d-4a61-ce58-fc1c84132625"
      },
      "outputs": [
        {
          "name": "stdout",
          "output_type": "stream",
          "text": [
            "16074\n"
          ]
        }
      ],
      "source": [
        "# Store the Value of 1\n",
        "store_1=image_reader(\"1\")\n",
        "for i in range(len(store_1)):\n",
        "    store_1[i]=np.append(store_1[i],[\"1\"])\n",
        "store_data=np.concatenate((store_data,store_1))\n",
        "print(len(store_data))"
      ]
    },
    {
      "cell_type": "code",
      "execution_count": null,
      "metadata": {
        "id": "d5xP72CGbNmf",
        "outputId": "e6612741-3bb4-411b-d658-c7c6843573d3"
      },
      "outputs": [
        {
          "name": "stdout",
          "output_type": "stream",
          "text": [
            "20334\n"
          ]
        }
      ],
      "source": [
        "# Store the Value of 2\n",
        "store_2=image_reader(\"2\")\n",
        "for i in range(len(store_2)):\n",
        "    store_2[i]=np.append(store_2[i],[\"2\"])\n",
        "store_data=np.concatenate((store_data,store_2))\n",
        "print(len(store_data))"
      ]
    },
    {
      "cell_type": "code",
      "execution_count": null,
      "metadata": {
        "id": "6Sv1p-0XbNmf",
        "outputId": "e7539b63-de9b-43b1-da0d-7c58bcb4c317"
      },
      "outputs": [
        {
          "name": "stdout",
          "output_type": "stream",
          "text": [
            "23850\n"
          ]
        }
      ],
      "source": [
        "# Store the Value of 3\n",
        "store_3=image_reader(\"3\")\n",
        "for i in range(len(store_3)):\n",
        "    store_3[i]=np.append(store_3[i],[\"3\"])\n",
        "store_data=np.concatenate((store_data,store_3))\n",
        "print(len(store_data))"
      ]
    },
    {
      "cell_type": "code",
      "execution_count": null,
      "metadata": {
        "id": "ojFgy71JbNmf",
        "outputId": "26c03b93-a57a-40cf-9e56-88e4d9ca074d"
      },
      "outputs": [
        {
          "name": "stdout",
          "output_type": "stream",
          "text": [
            "27882\n"
          ]
        }
      ],
      "source": [
        "# Store the Value of 4\n",
        "store_4=image_reader(\"4\")\n",
        "for i in range(len(store_4)):\n",
        "    store_4[i]=np.append(store_4[i],[\"4\"])\n",
        "store_data=np.concatenate((store_data,store_4))\n",
        "print(len(store_data))"
      ]
    },
    {
      "cell_type": "code",
      "execution_count": null,
      "metadata": {
        "id": "XX6QYs06bNmg",
        "outputId": "7b0907f2-63b1-4b53-aaec-75932f5b631a"
      },
      "outputs": [
        {
          "name": "stdout",
          "output_type": "stream",
          "text": [
            "31426\n"
          ]
        }
      ],
      "source": [
        "# Store the Value of 5\n",
        "store_5=image_reader(\"5\")\n",
        "for i in range(len(store_5)):\n",
        "    store_5[i]=np.append(store_5[i],[\"5\"])\n",
        "store_data=np.concatenate((store_data,store_5))\n",
        "print(len(store_data))"
      ]
    },
    {
      "cell_type": "code",
      "execution_count": null,
      "metadata": {
        "id": "KZsOnXgfbNmg",
        "outputId": "4cec9da6-cec7-4c2f-e142-5025b9d04075"
      },
      "outputs": [
        {
          "name": "stdout",
          "output_type": "stream",
          "text": [
            "34543\n"
          ]
        }
      ],
      "source": [
        "# Store the Value of 6\n",
        "store_6=image_reader(\"6\")\n",
        "for i in range(len(store_6)):\n",
        "    store_6[i]=np.append(store_6[i],[\"6\"])\n",
        "store_data=np.concatenate((store_data,store_6))\n",
        "print(len(store_data))"
      ]
    },
    {
      "cell_type": "code",
      "execution_count": null,
      "metadata": {
        "id": "ixNtqVjZbNmg",
        "outputId": "2fed1606-6cd8-4ae1-8d56-1d5395db96af"
      },
      "outputs": [
        {
          "name": "stdout",
          "output_type": "stream",
          "text": [
            "37451\n"
          ]
        }
      ],
      "source": [
        "# Store the Value of 7\n",
        "store_7=image_reader(\"7\")\n",
        "for i in range(len(store_7)):\n",
        "    store_7[i]=np.append(store_7[i],[\"7\"])\n",
        "store_data=np.concatenate((store_data,store_7))\n",
        "print(len(store_data))"
      ]
    },
    {
      "cell_type": "code",
      "execution_count": null,
      "metadata": {
        "id": "Aua3KjpubNmh",
        "outputId": "db843905-9ae6-4247-c7b6-0f199b1b015e"
      },
      "outputs": [
        {
          "name": "stdout",
          "output_type": "stream",
          "text": [
            "40518\n"
          ]
        }
      ],
      "source": [
        "# Store the Value of 8\n",
        "store_8=image_reader(\"8\")\n",
        "for i in range(len(store_8)):\n",
        "    store_8[i]=np.append(store_8[i],[\"8\"])\n",
        "store_data=np.concatenate((store_data,store_8))\n",
        "print(len(store_data))"
      ]
    },
    {
      "cell_type": "code",
      "execution_count": null,
      "metadata": {
        "id": "8P4RHWUMbNmh",
        "outputId": "11b98be8-b8b2-4555-c271-ae9d88080445"
      },
      "outputs": [
        {
          "name": "stdout",
          "output_type": "stream",
          "text": [
            "44254\n"
          ]
        }
      ],
      "source": [
        "# Store the Value of 9\n",
        "store_9=image_reader(\"9\")\n",
        "for i in range(len(store_9)):\n",
        "    store_9[i]=np.append(store_9[i],[\"9\"])\n",
        "store_data=np.concatenate((store_data,store_9))\n",
        "print(len(store_data))"
      ]
    },
    {
      "cell_type": "code",
      "execution_count": null,
      "metadata": {
        "id": "wxjAn3CNbNmh",
        "outputId": "a3bd814a-8db5-4ac4-fbf9-62b0ea82af39"
      },
      "outputs": [
        {
          "name": "stdout",
          "output_type": "stream",
          "text": [
            "47504\n"
          ]
        }
      ],
      "source": [
        "# Give The Times (X) Sign Value As 12\n",
        "store_times=image_reader(\"times\")\n",
        "for i in range(len(store_times)):\n",
        "    store_times[i]=np.append(store_times[i],[\"12\"])\n",
        "store_data=np.concatenate((store_data,store_times))\n",
        "print(len(store_data))"
      ]
    },
    {
      "cell_type": "code",
      "execution_count": null,
      "metadata": {
        "id": "yWAMMtfIbNmi"
      },
      "outputs": [],
      "source": [
        "dataF=pd.DataFrame(store_data,index=None)\n",
        "dataF.to_csv(\"training_image.csv\",index=False)"
      ]
    },
    {
      "cell_type": "code",
      "execution_count": null,
      "metadata": {
        "id": "nw9oPvMybNmi",
        "outputId": "250e5d33-8870-47fa-eeb7-3912fdd6b69d"
      },
      "outputs": [
        {
          "name": "stdout",
          "output_type": "stream",
          "text": [
            "Requirement already satisfied: protobuf==3.20.* in c:\\users\\rishi\\anaconda3\\lib\\site-packages (3.20.1)\n",
            "Note: you may need to restart the kernel to use updated packages.\n"
          ]
        }
      ],
      "source": [
        "pip install protobuf==3.20.*"
      ]
    },
    {
      "cell_type": "code",
      "execution_count": null,
      "metadata": {
        "id": "m8AuqxMzbNmi"
      },
      "outputs": [],
      "source": [
        "#Importing Libraries For Data Training\n",
        "import numpy as np\n",
        "import pandas as pd\n",
        "import pickle\n",
        "np.random.seed(1212)\n",
        "import tensorflow\n",
        "from tensorflow.keras.models import Model\n",
        "from tensorflow.keras.layers import *\n",
        "from tensorflow.keras import optimizers\n",
        "from tensorflow.keras.layers import Input,Dense\n",
        "from tensorflow.keras.models import Sequential\n",
        "from tensorflow.keras.layers import Dense\n",
        "from tensorflow.keras.layers import Dropout\n",
        "from tensorflow.keras.layers import Flatten\n",
        "from tensorflow.keras.layers import Conv2D\n",
        "from tensorflow.keras.layers import MaxPooling2D\n",
        "from tensorflow.python.keras import utils\n",
        "from tensorflow.keras import backend as K\n",
        "K.set_image_data_format('channels_last')"
      ]
    },
    {
      "cell_type": "code",
      "execution_count": null,
      "metadata": {
        "id": "1XKI--tsbNmi"
      },
      "outputs": [],
      "source": [
        "#Reading the CSV File Created From Above\n",
        "train_dataf=pd.read_csv(\"training_image.csv\",index_col=False)\n",
        "label=train_dataf[[\"784\"]]"
      ]
    },
    {
      "cell_type": "code",
      "execution_count": null,
      "metadata": {
        "id": "6xm2kbxXbNmj",
        "outputId": "96d94da6-16b1-4474-a953-5675359d0ec2"
      },
      "outputs": [
        {
          "data": {
            "text/html": [
              "<div>\n",
              "<style scoped>\n",
              "    .dataframe tbody tr th:only-of-type {\n",
              "        vertical-align: middle;\n",
              "    }\n",
              "\n",
              "    .dataframe tbody tr th {\n",
              "        vertical-align: top;\n",
              "    }\n",
              "\n",
              "    .dataframe thead th {\n",
              "        text-align: right;\n",
              "    }\n",
              "</style>\n",
              "<table border=\"1\" class=\"dataframe\">\n",
              "  <thead>\n",
              "    <tr style=\"text-align: right;\">\n",
              "      <th></th>\n",
              "      <th>0</th>\n",
              "      <th>1</th>\n",
              "      <th>2</th>\n",
              "      <th>3</th>\n",
              "      <th>4</th>\n",
              "      <th>5</th>\n",
              "      <th>6</th>\n",
              "      <th>7</th>\n",
              "      <th>8</th>\n",
              "      <th>9</th>\n",
              "      <th>...</th>\n",
              "      <th>774</th>\n",
              "      <th>775</th>\n",
              "      <th>776</th>\n",
              "      <th>777</th>\n",
              "      <th>778</th>\n",
              "      <th>779</th>\n",
              "      <th>780</th>\n",
              "      <th>781</th>\n",
              "      <th>782</th>\n",
              "      <th>783</th>\n",
              "    </tr>\n",
              "  </thead>\n",
              "  <tbody>\n",
              "    <tr>\n",
              "      <th>0</th>\n",
              "      <td>0</td>\n",
              "      <td>0</td>\n",
              "      <td>0</td>\n",
              "      <td>0</td>\n",
              "      <td>0</td>\n",
              "      <td>0</td>\n",
              "      <td>0</td>\n",
              "      <td>0</td>\n",
              "      <td>0</td>\n",
              "      <td>0</td>\n",
              "      <td>...</td>\n",
              "      <td>0</td>\n",
              "      <td>0</td>\n",
              "      <td>0</td>\n",
              "      <td>0</td>\n",
              "      <td>0</td>\n",
              "      <td>0</td>\n",
              "      <td>0</td>\n",
              "      <td>0</td>\n",
              "      <td>0</td>\n",
              "      <td>0</td>\n",
              "    </tr>\n",
              "    <tr>\n",
              "      <th>1</th>\n",
              "      <td>255</td>\n",
              "      <td>255</td>\n",
              "      <td>255</td>\n",
              "      <td>255</td>\n",
              "      <td>255</td>\n",
              "      <td>255</td>\n",
              "      <td>255</td>\n",
              "      <td>255</td>\n",
              "      <td>255</td>\n",
              "      <td>255</td>\n",
              "      <td>...</td>\n",
              "      <td>0</td>\n",
              "      <td>0</td>\n",
              "      <td>0</td>\n",
              "      <td>0</td>\n",
              "      <td>0</td>\n",
              "      <td>0</td>\n",
              "      <td>0</td>\n",
              "      <td>0</td>\n",
              "      <td>0</td>\n",
              "      <td>0</td>\n",
              "    </tr>\n",
              "    <tr>\n",
              "      <th>2</th>\n",
              "      <td>0</td>\n",
              "      <td>0</td>\n",
              "      <td>0</td>\n",
              "      <td>0</td>\n",
              "      <td>0</td>\n",
              "      <td>0</td>\n",
              "      <td>0</td>\n",
              "      <td>0</td>\n",
              "      <td>0</td>\n",
              "      <td>0</td>\n",
              "      <td>...</td>\n",
              "      <td>0</td>\n",
              "      <td>0</td>\n",
              "      <td>0</td>\n",
              "      <td>0</td>\n",
              "      <td>0</td>\n",
              "      <td>0</td>\n",
              "      <td>0</td>\n",
              "      <td>0</td>\n",
              "      <td>0</td>\n",
              "      <td>0</td>\n",
              "    </tr>\n",
              "    <tr>\n",
              "      <th>3</th>\n",
              "      <td>0</td>\n",
              "      <td>0</td>\n",
              "      <td>0</td>\n",
              "      <td>0</td>\n",
              "      <td>0</td>\n",
              "      <td>0</td>\n",
              "      <td>0</td>\n",
              "      <td>0</td>\n",
              "      <td>0</td>\n",
              "      <td>0</td>\n",
              "      <td>...</td>\n",
              "      <td>0</td>\n",
              "      <td>0</td>\n",
              "      <td>0</td>\n",
              "      <td>0</td>\n",
              "      <td>0</td>\n",
              "      <td>0</td>\n",
              "      <td>0</td>\n",
              "      <td>0</td>\n",
              "      <td>0</td>\n",
              "      <td>0</td>\n",
              "    </tr>\n",
              "    <tr>\n",
              "      <th>4</th>\n",
              "      <td>0</td>\n",
              "      <td>0</td>\n",
              "      <td>0</td>\n",
              "      <td>0</td>\n",
              "      <td>0</td>\n",
              "      <td>0</td>\n",
              "      <td>0</td>\n",
              "      <td>0</td>\n",
              "      <td>0</td>\n",
              "      <td>0</td>\n",
              "      <td>...</td>\n",
              "      <td>0</td>\n",
              "      <td>0</td>\n",
              "      <td>0</td>\n",
              "      <td>0</td>\n",
              "      <td>0</td>\n",
              "      <td>0</td>\n",
              "      <td>0</td>\n",
              "      <td>0</td>\n",
              "      <td>0</td>\n",
              "      <td>0</td>\n",
              "    </tr>\n",
              "  </tbody>\n",
              "</table>\n",
              "<p>5 rows × 784 columns</p>\n",
              "</div>"
            ],
            "text/plain": [
              "     0    1    2    3    4    5    6    7    8    9  ...  774  775  776  777  \\\n",
              "0    0    0    0    0    0    0    0    0    0    0  ...    0    0    0    0   \n",
              "1  255  255  255  255  255  255  255  255  255  255  ...    0    0    0    0   \n",
              "2    0    0    0    0    0    0    0    0    0    0  ...    0    0    0    0   \n",
              "3    0    0    0    0    0    0    0    0    0    0  ...    0    0    0    0   \n",
              "4    0    0    0    0    0    0    0    0    0    0  ...    0    0    0    0   \n",
              "\n",
              "   778  779  780  781  782  783  \n",
              "0    0    0    0    0    0    0  \n",
              "1    0    0    0    0    0    0  \n",
              "2    0    0    0    0    0    0  \n",
              "3    0    0    0    0    0    0  \n",
              "4    0    0    0    0    0    0  \n",
              "\n",
              "[5 rows x 784 columns]"
            ]
          },
          "execution_count": 21,
          "metadata": {},
          "output_type": "execute_result"
        }
      ],
      "source": [
        "#Dropping The Label & Reshaping The Dataset\n",
        "train_dataf.drop(train_dataf.columns[[784]],axis=1,inplace=True)\n",
        "train_dataf.head()"
      ]
    },
    {
      "cell_type": "code",
      "execution_count": null,
      "metadata": {
        "id": "vLB2oEmlbNmj",
        "outputId": "3a644dac-ceda-498b-fb79-a02798873ab6"
      },
      "outputs": [
        {
          "name": "stdout",
          "output_type": "stream",
          "text": [
            "[0. 0. 0. 0. 0. 0. 0. 0. 0. 0. 1. 0. 0.]\n"
          ]
        }
      ],
      "source": [
        "label=np.array(label)\n",
        "from tensorflow.keras.utils import to_categorical\n",
        "categor=to_categorical(label,num_classes=13)\n",
        "print(categor[0])"
      ]
    },
    {
      "cell_type": "code",
      "execution_count": null,
      "metadata": {
        "id": "dq4S5xXfbNmj"
      },
      "outputs": [],
      "source": [
        "lis=[]\n",
        "for i in range(47504):\n",
        "    lis.append(np.array(train_dataf[i:i+1]).reshape(28,28,1))\n",
        "np.random.seed(7)   "
      ]
    },
    {
      "cell_type": "code",
      "execution_count": null,
      "metadata": {
        "id": "KjSkNv_ebNmj"
      },
      "outputs": [],
      "source": [
        "from tensorflow.keras.models import model_from_json"
      ]
    },
    {
      "cell_type": "code",
      "execution_count": null,
      "metadata": {
        "id": "TyYFo5qXbNmj",
        "outputId": "3b69e849-91a0-429c-b48c-54e3a90278cd"
      },
      "outputs": [
        {
          "name": "stdout",
          "output_type": "stream",
          "text": [
            "Epoch 1/10\n",
            "238/238 [==============================] - 12s 48ms/step - loss: 1.6194 - accuracy: 0.6485\n",
            "Epoch 2/10\n",
            "238/238 [==============================] - 35s 147ms/step - loss: 0.3338 - accuracy: 0.9008\n",
            "Epoch 3/10\n",
            "238/238 [==============================] - 28s 117ms/step - loss: 0.2051 - accuracy: 0.9392\n",
            "Epoch 4/10\n",
            "238/238 [==============================] - 48s 203ms/step - loss: 0.1496 - accuracy: 0.9558\n",
            "Epoch 5/10\n",
            "238/238 [==============================] - 30s 128ms/step - loss: 0.1173 - accuracy: 0.9655\n",
            "Epoch 6/10\n",
            "238/238 [==============================] - 32s 133ms/step - loss: 0.0960 - accuracy: 0.9719\n",
            "Epoch 7/10\n",
            "238/238 [==============================] - 32s 133ms/step - loss: 0.0837 - accuracy: 0.9744\n",
            "Epoch 8/10\n",
            "238/238 [==============================] - 38s 159ms/step - loss: 0.0703 - accuracy: 0.9783\n",
            "Epoch 9/10\n",
            "238/238 [==============================] - 31s 130ms/step - loss: 0.0605 - accuracy: 0.9813\n",
            "Epoch 10/10\n",
            "238/238 [==============================] - 32s 136ms/step - loss: 0.0562 - accuracy: 0.9817\n"
          ]
        },
        {
          "data": {
            "text/plain": [
              "<tensorflow.python.keras.callbacks.History at 0x2bf28ba1d30>"
            ]
          },
          "execution_count": 25,
          "metadata": {},
          "output_type": "execute_result"
        }
      ],
      "source": [
        "#Building,Compiling And Testing The CNN Model On The Training Set Of Images\n",
        "cnn=tensorflow.keras.models.Sequential()\n",
        "cnn.add(Conv2D(30,(5,5),input_shape=(28,28,1),activation='relu'))\n",
        "cnn.add(MaxPooling2D(pool_size=(2,2)))\n",
        "cnn.add(Conv2D(15,(3,3),activation='relu'))\n",
        "cnn.add(MaxPooling2D(pool_size=(2,2)))\n",
        "cnn.add(Dropout(0.2))\n",
        "cnn.add(Flatten())\n",
        "cnn.add(Dense(128,activation=\"relu\"))\n",
        "cnn.add(Dense(50,activation=\"relu\"))\n",
        "cnn.add(Dense(13,activation=\"softmax\"))\n",
        "cnn.compile(loss=\"categorical_crossentropy\",optimizer=\"adam\",metrics=[\"accuracy\"])\n",
        "cnn.fit(np.array(lis), categor, epochs=10, batch_size=200,shuffle=True,verbose=1)"
      ]
    },
    {
      "cell_type": "code",
      "execution_count": null,
      "metadata": {
        "id": "bWyFwGIAbNmj"
      },
      "outputs": [],
      "source": [
        "model_json=cnn.to_json()\n",
        "with open(\"model_final.json\", \"w\") as json_file:\n",
        "    json_file.write(model_json)\n",
        "# serialize weights to HDF5\n",
        "cnn.save_weights(\"model_final.h5\")"
      ]
    },
    {
      "cell_type": "code",
      "execution_count": null,
      "metadata": {
        "id": "LhJ6aYu7bNmk"
      },
      "outputs": [],
      "source": [
        "from tensorflow.keras.datasets import mnist"
      ]
    },
    {
      "cell_type": "code",
      "execution_count": null,
      "metadata": {
        "id": "l1iOLq7QbNmk"
      },
      "outputs": [],
      "source": [
        "# Opening & Accessing The Saved Results of CNN Training\n",
        "file_json=open(\"model_final.json\",\"r\")\n",
        "modeljson_load=file_json.read()\n",
        "file_json.close()\n",
        "model_load=model_from_json(modeljson_load)\n",
        "model_load.load_weights(\"model_final.h5\")"
      ]
    },
    {
      "cell_type": "code",
      "execution_count": null,
      "metadata": {
        "id": "7B5tbISAbNmk"
      },
      "outputs": [],
      "source": [
        "import cv2\n",
        "import numpy as np\n",
        "img = cv2.imread('test.jpeg',cv2.IMREAD_GRAYSCALE)\n",
        "#kernel = np.ones((3,3),np.uint8)\n",
        "cv2.imshow(\"wo\",img)\n",
        "cv2.waitKey(0)\n",
        "cv2.destroyAllWindows()\n",
        "#erosion = cv2.erode(img,kernel,iterations = 3)\n",
        "#dilation = cv2.dilate(img,kernel,iterations = 1)\n",
        "#img=dilation\n",
        "if img is not None:\n",
        "    #images.append(img)\n",
        "    img=~img\n",
        "    ret,thresh=cv2.threshold(img,127,255,cv2.THRESH_BINARY)\n",
        "    ctrs,ret=cv2.findContours(thresh,cv2.RETR_TREE,cv2.CHAIN_APPROX_SIMPLE)\n",
        "    cnt=sorted(ctrs, key=lambda ctr: cv2.boundingRect(ctr)[0])\n",
        "    w=int(28)\n",
        "    h=int(28)\n",
        "    train_data=[]\n",
        "    #print(len(cnt))\n",
        "    rects=[]\n",
        "    for c in cnt :\n",
        "        x,y,w,h= cv2.boundingRect(c)\n",
        "        rect=[x,y,w,h]\n",
        "        rects.append(rect)\n",
        "    #print(rects)\n",
        "    bool_rect=[]\n",
        "    for r in rects:\n",
        "        l=[]\n",
        "        for rec in rects:\n",
        "            flag=0\n",
        "            if rec!=r:\n",
        "                if r[0]<(rec[0]+rec[2]+10) and rec[0]<(r[0]+r[2]+10) and r[1]<(rec[1]+rec[3]+10) and rec[1]<(r[1]+r[3]+10):\n",
        "                    flag=1\n",
        "                l.append(flag)\n",
        "            if rec==r:\n",
        "                l.append(0)\n",
        "        bool_rect.append(l)\n",
        "    #print(bool_rect)\n",
        "    dump_rect=[]\n",
        "    for i in range(0,len(cnt)):\n",
        "        for j in range(0,len(cnt)):\n",
        "            if bool_rect[i][j]==1:\n",
        "                area1=rects[i][2]*rects[i][3]\n",
        "                area2=rects[j][2]*rects[j][3]\n",
        "                if(area1==min(area1,area2)):\n",
        "                    dump_rect.append(rects[i])\n",
        "    #print(len(dump_rect)) \n",
        "    final_rect=[i for i in rects if i not in dump_rect]\n",
        "    #print(final_rect)\n",
        "    for r in final_rect:\n",
        "        x=r[0]\n",
        "        y=r[1]\n",
        "        w=r[2]\n",
        "        h=r[3]\n",
        "        im_crop =thresh[y:y+h+10,x:x+w+10]\n",
        "        \n",
        "\n",
        "        im_resize = cv2.resize(im_crop,(28,28))\n",
        "        cv2.imshow(\"work\",im_resize)\n",
        "        cv2.waitKey(0)\n",
        "        cv2.destroyAllWindows()\n",
        "\n",
        "        im_resize=np.reshape(im_resize,(28,28,1))\n",
        "        train_data.append(im_resize)"
      ]
    },
    {
      "cell_type": "code",
      "execution_count": null,
      "metadata": {
        "id": "3rHY_85QbNmk",
        "outputId": "7be6ccde-6107-4e41-8bbd-7493675c3b5f"
      },
      "outputs": [
        {
          "name": "stdout",
          "output_type": "stream",
          "text": [
            "42+4\n"
          ]
        }
      ],
      "source": [
        "s=''\n",
        "for i in range(len(train_data)):\n",
        "    train_data[i]=np.array(train_data[i])\n",
        "    train_data[i]=train_data[i].reshape(1,28,28,1)\n",
        "    result=model_load.predict_classes(train_data[i])\n",
        "    if(result[0]==10):\n",
        "        s=s+'-'\n",
        "    if(result[0]==11):\n",
        "        s=s+'+'\n",
        "    if(result[0]==12):\n",
        "        s=s+'*'\n",
        "    if(result[0]==0):\n",
        "        s=s+'0'\n",
        "    if(result[0]==1):\n",
        "        s=s+'1'\n",
        "    if(result[0]==2):\n",
        "        s=s+'2'\n",
        "    if(result[0]==3):\n",
        "        s=s+'3'\n",
        "    if(result[0]==4):\n",
        "        s=s+'4'\n",
        "    if(result[0]==5):\n",
        "        s=s+'5'\n",
        "    if(result[0]==6):\n",
        "        s=s+'6'\n",
        "    if(result[0]==7):\n",
        "        s=s+'7'\n",
        "    if(result[0]==8):\n",
        "        s=s+'8'\n",
        "    if(result[0]==9):\n",
        "        s=s+'9'\n",
        "    \n",
        "print(s)    "
      ]
    },
    {
      "cell_type": "code",
      "execution_count": null,
      "metadata": {
        "id": "r0iFplJWbNmk",
        "outputId": "7d78d7ca-d4f4-41a9-a124-39e676774332"
      },
      "outputs": [
        {
          "data": {
            "text/plain": [
              "46"
            ]
          },
          "execution_count": 37,
          "metadata": {},
          "output_type": "execute_result"
        }
      ],
      "source": [
        "eval(s)"
      ]
    },
    {
      "cell_type": "code",
      "execution_count": null,
      "metadata": {
        "id": "TjCz0dE2bNmk"
      },
      "outputs": [],
      "source": []
    }
  ],
  "metadata": {
    "colab": {
      "collapsed_sections": [],
      "name": "LGMVIP_Task-9_Handwritten equation solver using CNN.ipynb",
      "provenance": []
    },
    "kernelspec": {
      "display_name": "Python 3",
      "language": "python",
      "name": "python3"
    },
    "language_info": {
      "codemirror_mode": {
        "name": "ipython",
        "version": 3
      },
      "file_extension": ".py",
      "mimetype": "text/x-python",
      "name": "python",
      "nbconvert_exporter": "python",
      "pygments_lexer": "ipython3",
      "version": "3.8.5"
    }
  },
  "nbformat": 4,
  "nbformat_minor": 0
}